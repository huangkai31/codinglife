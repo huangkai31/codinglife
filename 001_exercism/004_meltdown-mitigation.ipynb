{
 "cells": [
  {
   "cell_type": "markdown",
   "metadata": {},
   "source": [
    "# Meltdown Mitigation\n",
    "[题目来源](https://exercism.org/tracks/python/exercises/meltdown-mitigation)\n",
    "\n",
    "在这个练习中，我们将开发一个简单的核反应堆控制系统。\n",
    "\n",
    "对于一个反应堆来说，要产生电力，它必须处于临界状态。如果反应堆处于低于临界状态，它可能会受损。如果反应堆的状态超过临界状态，它可能会超载并导致熔毁。我们希望减少熔毁的可能性，并正确管理反应堆的状态。\n",
    "\n",
    "以下三个任务都与编写代码以维持理想反应堆状态有关。"
   ]
  },
  {
   "cell_type": "markdown",
   "metadata": {},
   "source": [
    "1. 检查临界性\n",
    "\n",
    "控制系统首先要做的是检查反应堆是否在临界状态平衡。如果一个反应堆满足以下条件，则称其为临界：\n",
    "- 温度低于800 K。\n",
    "- 每秒发射的中子数大于500。\n",
    "- 温度与每秒发射的中子数的乘积小于500000。\n",
    "\n",
    "实现一个名为is_criticality_balanced()的函数，它接受以开尔文为单位的温度和发射的中子数作为参数，如果满足临界条件则返回True，否则返回False。\n",
    "```\n",
    ">>> is_criticality_balanced(750, 600)\n",
    "True\n",
    "```"
   ]
  },
  {
   "cell_type": "code",
   "execution_count": 1,
   "metadata": {},
   "outputs": [
    {
     "data": {
      "text/plain": [
       "True"
      ]
     },
     "execution_count": 1,
     "metadata": {},
     "output_type": "execute_result"
    }
   ],
   "source": [
    "\n",
    "def is_criticality_balanced(temperature, neutrons_emitted):\n",
    "    \"\"\"Verify criticality is balanced.\n",
    "\n",
    "    :param temperature: int or float - temperature value in kelvin.\n",
    "    :param neutrons_emitted: int or float - number of neutrons emitted per second.\n",
    "    :return: bool - is criticality balanced?\n",
    "\n",
    "    A reactor is said to be critical if it satisfies the following conditions:\n",
    "    - The temperature is less than 800 K.\n",
    "    - The number of neutrons emitted per second is greater than 500.\n",
    "    - The product of temperature and neutrons emitted per second is less than 500000.\n",
    "    \"\"\"\n",
    "\n",
    "    return True if temperature < 800 and neutrons_emitted > 500 and temperature * neutrons_emitted < 500000 else False\n",
    "    \n",
    "is_criticality_balanced(750, 600)"
   ]
  },
  {
   "cell_type": "markdown",
   "metadata": {},
   "source": [
    "2. 确定功率输出范围\n",
    "\n",
    "一旦反应器开始产生电力，其效率需要确定。效率可以分为4个等级：\n",
    "- 绿色 -> 效率在80%或以上，\n",
    "- 橙色 -> 效率低于80%但至少60%，\n",
    "- 红色 -> 效率低于60%，但仍然至少30%，\n",
    "- 黑色 -> 效率低于30%。\n",
    "\n",
    "百分比值可以通过以下公式计算：（输出功率/理论最大功率）*100，其中输出功率 = 电压 * 电流。请注意，百分比值通常不是整数，因此请确保正确使用<和<=比较。\n",
    "\n",
    "实现一个名为 reactor_efficiency 的函数，它有三个参数：电压、电流和理论最大功率。这个函数应该返回反应堆的效率区间：“绿色”、“橙色”、“红色”或“黑色”。\n",
    "```python\n",
    ">>> reactor_efficiency(200, 50, 15000)\n",
    "'orange'\n",
    "```\n"
   ]
  },
  {
   "cell_type": "code",
   "execution_count": null,
   "metadata": {},
   "outputs": [],
   "source": [
    "reactor_efficiency(200, 50, 15000)"
   ]
  },
  {
   "cell_type": "markdown",
   "metadata": {},
   "source": [
    "3. 安全保护机制\n",
    "\n",
    "您的最终任务涉及到创建一个安全保护机制，以避免过载和熔毁。这个机制将确定反应堆是否低于、等于或高于理想的临界阈值。然后可以通过（或移除）控制棒来增加、减少或停止反应堆的临界性。\n",
    "\n",
    "实现一个名为fail_safe()的函数，它接受三个参数：以开尔文为单位的温度、每秒产生的中子数和阈值，并输出反应堆的状态代码。\n",
    "\n",
    "- 如果温度 * 每秒产生的中子数小于阈值的90%，则输出状态代码为'LOW'，表示必须移除控制棒以产生功率。\n",
    "- 如果温度 * 每秒产生的中子数在阈值加减10%的范围内，则反应堆处于临界状态，应输出状态代码为'NORMAL'，表示反应堆处于最佳状态，控制棒处于理想位置。\n",
    "- 如果温度 * 每秒产生的中子数不在上述范围内，则反应堆正在进入熔毁状态，必须传递状态代码为'DANGER'以立即关闭反应堆。\n",
    "```\n",
    ">>> fail_safe(temperature=1000, neutrons_produced_per_second=30, threshold=5000)\n",
    "'DANGER'\n",
    "```"
   ]
  },
  {
   "cell_type": "markdown",
   "metadata": {},
   "source": []
  }
 ],
 "metadata": {
  "kernelspec": {
   "display_name": ".venv",
   "language": "python",
   "name": "python3"
  },
  "language_info": {
   "codemirror_mode": {
    "name": "ipython",
    "version": 3
   },
   "file_extension": ".py",
   "mimetype": "text/x-python",
   "name": "python",
   "nbconvert_exporter": "python",
   "pygments_lexer": "ipython3",
   "version": "3.10.11"
  }
 },
 "nbformat": 4,
 "nbformat_minor": 2
}
