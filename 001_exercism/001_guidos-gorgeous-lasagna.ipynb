{
 "cells": [
  {
   "cell_type": "markdown",
   "metadata": {},
   "source": [
    "# Guido's Gorgeous Lasagna\n",
    "[题目来源](https://exercism.io/tracks/python/exercises/guidos-gorgeous-lasagna)\n",
    "\n",
    "您将编写一些代码来帮助您烹饪您最喜欢的食谱中的美味千层面。\n",
    "你有五项任务，都与你的食谱有关\n"
   ]
  },
  {
   "cell_type": "markdown",
   "metadata": {},
   "source": [
    "#### 确定预期烘焙时间，以分钟为单位\n",
    "定义一个EXPECTED_BAKE_TIME常量，返回烤宽面条应该在烤箱中烤多少分钟。根据你的食谱，千层面应该在烤箱里烤40分钟。"
   ]
  },
  {
   "cell_type": "code",
   "execution_count": 3,
   "metadata": {},
   "outputs": [],
   "source": [
    "EXPECTED_BAKE_TIME = 40\n",
    "assert(EXPECTED_BAKE_TIME==40)"
   ]
  },
  {
   "cell_type": "markdown",
   "metadata": {},
   "source": [
    "#### 以分钟为单位计算剩余烘焙时间\n",
    "实现bake_time_remaining（）函数，该函数以烤宽面条在烤箱中的实际时间作为参数，并根据EXPECTED_BAKE_TIME返回烤宽面条还需要烤多少分钟"
   ]
  },
  {
   "cell_type": "code",
   "execution_count": 4,
   "metadata": {},
   "outputs": [],
   "source": [
    "def bake_time_remaining(elapsed_bake_time: int):\n",
    "    \"\"\"Calculate the bake time remaining.\n",
    "\n",
    "    :param elapsed_bake_time: int - baking time already elapsed.\n",
    "    :return: int - remaining bake time (in minutes) derived from 'EXPECTED_BAKE_TIME'.\n",
    "    \n",
    "    Function that takes the actual minutes the lasagna has been in the oven as\n",
    "    an argument and returns how many minutes the lasagna still needs to bake\n",
    "    based on the `EXPECTED_BAKE_TIME`.\n",
    "    \"\"\"\n",
    "    return EXPECTED_BAKE_TIME - elapsed_bake_time\n",
    "\n",
    "assert(bake_time_remaining(30)==10)"
   ]
  },
  {
   "cell_type": "markdown",
   "metadata": {},
   "source": [
    "### 以分钟为单位计算准备时间\n",
    "定义prepareation_time_in_minutes（）函数，该函数接受要添加到千层面的层数作为参数，并返回制作千层面需要花费的分钟数。假设每层需要2分钟准备。"
   ]
  },
  {
   "cell_type": "code",
   "execution_count": 5,
   "metadata": {},
   "outputs": [],
   "source": [
    "PREPARATION_TIME = 2\n",
    "def preparation_time_in_minutes(a):\n",
    "    \"\"\"\n",
    "    Return elapsed cooking time.\n",
    "    \"\"\"\n",
    "    return PREPARATION_TIME * a\n",
    "assert( preparation_time_in_minutes(2) == 4)"
   ]
  },
  {
   "cell_type": "markdown",
   "metadata": {},
   "source": [
    "### 计算总烹饪时间（准备+烘烤）以分钟为单位\n",
    "定义elapsed_time_in_minutes（）函数，该函数接受两个参数作为参数：number_of_layers（添加到千层面上的层数）和elapsed_bake_time（千层面在烤箱中烘烤的分钟数）。这个函数应该返回你已经烹饪的总分钟数，或者你的准备时间和千层面已经在烤箱中烘烤的时间的总和。"
   ]
  },
  {
   "cell_type": "code",
   "execution_count": 6,
   "metadata": {},
   "outputs": [],
   "source": [
    "def elapsed_time_in_minutes(number_of_layers :int, elapsed_bake_time : int):\n",
    "    \"\"\"\n",
    "    Return elapsed cooking time.\n",
    "\n",
    "    This function takes two numbers representing the number of layers & the time already spent \n",
    "    baking and calculates the total elapsed minutes spent cooking the lasagna.\n",
    "    \"\"\"\n",
    "    return preparation_time_in_minutes(number_of_layers) + elapsed_bake_time\n",
    "\n",
    "assert(elapsed_time_in_minutes(3,20)==26)\n",
    "assert(elapsed_time_in_minutes(1,20)==22)"
   ]
  },
  {
   "cell_type": "markdown",
   "metadata": {},
   "source": []
  }
 ],
 "metadata": {
  "kernelspec": {
   "display_name": ".venv",
   "language": "python",
   "name": "python3"
  },
  "language_info": {
   "codemirror_mode": {
    "name": "ipython",
    "version": 3
   },
   "file_extension": ".py",
   "mimetype": "text/x-python",
   "name": "python",
   "nbconvert_exporter": "python",
   "pygments_lexer": "ipython3",
   "version": "3.12.7"
  }
 },
 "nbformat": 4,
 "nbformat_minor": 2
}
