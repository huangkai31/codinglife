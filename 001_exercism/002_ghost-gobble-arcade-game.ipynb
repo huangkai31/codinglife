{
 "cells": [
  {
   "cell_type": "markdown",
   "metadata": {},
   "source": [
    "# Ghost Gobble Arcade Game\n",
    "[题目来源](https://exercism.org/tracks/python/exercises/ghost-gobble-arcade-game)\n",
    "\n",
    "在本练习中，您需要执行 20 世纪 80 年代经典街机游戏《吃豆人》中的一些规则。\n",
    "您需要执行四条规则，它们都与游戏状态有关。"
   ]
  },
  {
   "cell_type": "markdown",
   "metadata": {},
   "source": [
    "```{thebe-button} 启动 MyBinder \n",
    "```"
   ]
  },
  {
   "cell_type": "markdown",
   "metadata": {},
   "source": [
    "1. 定义吃豆人是否吃鬼\n",
    "\n",
    "定义 eat_ghost()函数，该函数接收两个参数（吃豆人是否激活了能量球以及吃豆人是否正在接触鬼魂），如果吃豆人能够吃掉鬼魂，则返回一个布尔值。该函数只有在吃豆人已激活能量球且正在接触幽灵时才会返回 True。"
   ]
  },
  {
   "cell_type": "code",
   "execution_count": 3,
   "metadata": {},
   "outputs": [
    {
     "data": {
      "text/plain": [
       "False"
      ]
     },
     "execution_count": 3,
     "metadata": {},
     "output_type": "execute_result"
    }
   ],
   "source": [
    "\n",
    "def eat_ghost(power_pellet_active, touching_ghost):\n",
    "    \"\"\"Verify that Pac-Man can eat a ghost if he is empowered by a power pellet.\n",
    "\n",
    "    :param power_pellet_active: bool - does the player have an active power pellet?\n",
    "    :param touching_ghost: bool - is the player touching a ghost?\n",
    "    :return: bool - can the ghost be eaten?\n",
    "    \"\"\"\n",
    "\n",
    "    # if power_pellet_active and touching_ghost:\n",
    "    #     return True\n",
    "    # else:\n",
    "    #     return False\n",
    "    return True if power_pellet_active and touching_ghost else False\n",
    "assert eat_ghost(True, False) == False\n",
    "eat_ghost(False, True)"
   ]
  },
  {
   "cell_type": "markdown",
   "metadata": {},
   "source": [
    "2. 定义吃豆人是否得分\n",
    "\n",
    "定义 score() 函数，该函数接收两个参数（吃豆人是否触碰到能量球和吃豆人是否触碰到点），如果吃豆人得分，则返回一个布尔值。如果吃豆人碰到了能量球或点，函数应返回 True。"
   ]
  },
  {
   "cell_type": "code",
   "execution_count": 8,
   "metadata": {},
   "outputs": [
    {
     "data": {
      "text/plain": [
       "(False, True)"
      ]
     },
     "execution_count": 8,
     "metadata": {},
     "output_type": "execute_result"
    }
   ],
   "source": [
    "\n",
    "def score(touching_power_pellet, touching_dot):\n",
    "    \"\"\"Verify that Pac-Man has scored when a power pellet or dot has been eaten.\n",
    "\n",
    "    :param touching_power_pellet: bool - does the player have an active power pellet?\n",
    "    :param touching_dot: bool - is the player touching a dot?\n",
    "    :return: bool - has the player scored or not?\n",
    "    \"\"\"\n",
    "\n",
    "    return True if touching_power_pellet or touching_dot else False\n",
    "\n",
    "assert score(False, False) == False\n",
    "score(False, False) , score(True, True)"
   ]
  },
  {
   "cell_type": "markdown",
   "metadata": {},
   "source": [
    "3. 定义吃豆人是否输\n",
    "\n",
    "定义 lose() 函数，该函数接收两个参数（吃豆人是否激活了能量球以及吃豆人是否正在接触幽灵），并在吃豆人输掉比赛时返回一个布尔值。如果吃豆人正在接触鬼魂，并且没有激活能量球，函数应返回 True。"
   ]
  },
  {
   "cell_type": "code",
   "execution_count": 5,
   "metadata": {},
   "outputs": [],
   "source": [
    "\n",
    "def lose(power_pellet_active, touching_ghost):\n",
    "    \"\"\"Trigger the game loop to end (GAME OVER) when Pac-Man touches a ghost without his power pellet.\n",
    "\n",
    "    :param power_pellet_active: bool - does the player have an active power pellet?\n",
    "    :param touching_ghost: bool - is the player touching a ghost?\n",
    "    :return: bool - has the player lost the game?\n",
    "    \"\"\"\n",
    "\n",
    "    return True if not power_pellet_active and touching_ghost else False\n",
    "\n",
    "assert lose(False, True) == True\n",
    "lose(False, True)"
   ]
  },
  {
   "cell_type": "markdown",
   "metadata": {},
   "source": [
    "4. 定义吃豆人是否获胜\n",
    "\n",
    "定义 win() 函数，该函数接收三个参数（吃豆人是否吃完了所有的点、吃豆人是否激活了能量球、吃豆人是否碰到了幽灵），并在吃豆人获胜时返回一个布尔值。根据第 3 部分中定义的参数，如果吃豆人吃完了所有的点并且没有输，函数应该返回 True。"
   ]
  },
  {
   "cell_type": "code",
   "execution_count": 7,
   "metadata": {},
   "outputs": [
    {
     "data": {
      "text/plain": [
       "False"
      ]
     },
     "execution_count": 7,
     "metadata": {},
     "output_type": "execute_result"
    }
   ],
   "source": [
    "\n",
    "def win(has_eaten_all_dots, power_pellet_active, touching_ghost):\n",
    "    \"\"\"Trigger the victory event when all dots have been eaten.\n",
    "\n",
    "    :param has_eaten_all_dots: bool - has the player \"eaten\" all the dots?\n",
    "    :param power_pellet_active: bool - does the player have an active power pellet?\n",
    "    :param touching_ghost: bool - is the player touching a ghost?\n",
    "    :return: bool - has the player won the game?\n",
    "    \"\"\"\n",
    "\n",
    "    return True if has_eaten_all_dots and not lose(power_pellet_active, touching_ghost) else False\n",
    "\n",
    "assert win(True, True, False) == True\n",
    "win(False, True, False)"
   ]
  },
  {
   "cell_type": "markdown",
   "metadata": {},
   "source": []
  }
 ],
 "metadata": {
  "kernelspec": {
   "display_name": ".venv",
   "language": "python",
   "name": "python3"
  },
  "language_info": {
   "codemirror_mode": {
    "name": "ipython",
    "version": 3
   },
   "file_extension": ".py",
   "mimetype": "text/x-python",
   "name": "python",
   "nbconvert_exporter": "python",
   "pygments_lexer": "ipython3",
   "version": "3.10.11"
  }
 },
 "nbformat": 4,
 "nbformat_minor": 2
}
