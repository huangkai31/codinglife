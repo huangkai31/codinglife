{
 "cells": [
  {
   "cell_type": "markdown",
   "metadata": {},
   "source": [
    "#  Currency Exchange \n",
    "[题目来源](https://exercism.org/tracks/python/exercises/currency-exchange)\n",
    "\n",
    "你的朋友钱德勒计划游览世界各地的异国风情。遗憾的是，钱德勒的数学不太好。他很担心在旅途中被货币兑换商诈骗--他希望你能为他制作一个货币计算器。以下是他对应用程序的要求："
   ]
  },
  {
   "cell_type": "markdown",
   "metadata": {},
   "source": [
    "```{thebe-button} 启动 MyBinder \n",
    "```"
   ]
  },
  {
   "cell_type": "markdown",
   "metadata": {},
   "source": [
    "1. 估计兑换后的价值\n",
    "\n",
    "创建 exchange_money() 函数，获取 2 个参数：\n",
    "budget : 计划兑换的金额。\n",
    "exchange_rate ： 等于一单位外币的本国货币金额。\n",
    "该函数应返回兑换货币的价值。\n",
    "注：如果您的货币是美元，您想用美元兑换欧元，汇率为 1.20，则 1.20 美元 == 1 欧元。\n",
    "```\n",
    ">>> exchange_money(127.5, 1.2)\n",
    "106.25\n",
    "```"
   ]
  },
  {
   "cell_type": "code",
   "execution_count": 1,
   "metadata": {},
   "outputs": [
    {
     "data": {
      "text/plain": [
       "106.25"
      ]
     },
     "execution_count": 1,
     "metadata": {},
     "output_type": "execute_result"
    }
   ],
   "source": [
    "\n",
    "def exchange_money(budget, exchange_rate):\n",
    "    \"\"\"\n",
    "\n",
    "    :param budget: float - amount of money you are planning to exchange.\n",
    "    :param exchange_rate: float - unit value of the foreign currency.\n",
    "    :return: float - exchanged value of the foreign currency you can receive.\n",
    "    \"\"\"\n",
    "\n",
    "    return budget / exchange_rate\n",
    "    \n",
    "exchange_money(127.5, 1.2)"
   ]
  },
  {
   "cell_type": "markdown",
   "metadata": {},
   "source": [
    "2. 计算兑换后的剩余货币\n",
    "\n",
    "创建 get_change() 函数，接收 2 个参数：\n",
    "budget ： 兑换前的货币量。\n",
    "exchanging_value：从预算中提取的待兑换货币金额。\n",
    "该函数应返回预算中剩余的货币量。\n",
    "```\n",
    ">>> get_change(127.5, 120)\n",
    "7.5\n",
    "```"
   ]
  },
  {
   "cell_type": "code",
   "execution_count": 2,
   "metadata": {},
   "outputs": [
    {
     "data": {
      "text/plain": [
       "7.5"
      ]
     },
     "execution_count": 2,
     "metadata": {},
     "output_type": "execute_result"
    }
   ],
   "source": [
    "\n",
    "def get_change(budget, exchanging_value):\n",
    "    \"\"\"\n",
    "\n",
    "    :param budget: float - amount of money you own.\n",
    "    :param exchanging_value: float - amount of your money you want to exchange now.\n",
    "    :return: float - amount left of your starting currency after exchanging.\n",
    "    \"\"\"\n",
    "\n",
    "    return budget - exchanging_value\n",
    "\n",
    "get_change(127.5, 120)"
   ]
  },
  {
   "cell_type": "markdown",
   "metadata": {},
   "source": [
    "3. 计算账单价值\n",
    "\n",
    "创建 get_value_of_bills() 函数，接收 2 个参数：\n",
    "面额：单张纸币的价值。\n",
    "number_of_bills ：纸币总数。\n",
    "该兑换点只处理一定增量的现金。您收到的总金额必须能被一张 “钞票 ”的面值或单位整除，否则会留下分数或余数。您的函数应该只返回该兑换点返还的钞票的总价值（不包括小数）。不幸的是，摊位可以保留余数/零钱作为额外奖励。\n",
    "```\n",
    ">>> get_value_of_bills(5, 128)\n",
    "640\n",
    "```"
   ]
  },
  {
   "cell_type": "code",
   "execution_count": 3,
   "metadata": {},
   "outputs": [
    {
     "data": {
      "text/plain": [
       "640"
      ]
     },
     "execution_count": 3,
     "metadata": {},
     "output_type": "execute_result"
    }
   ],
   "source": [
    "\n",
    "def get_value_of_bills(denomination, number_of_bills):\n",
    "    \"\"\"\n",
    "\n",
    "    :param denomination: int - the value of a bill.\n",
    "    :param number_of_bills: int - total number of bills.\n",
    "    :return: int - calculated value of the bills.\n",
    "    \"\"\"\n",
    "\n",
    "    return denomination * number_of_bills\n",
    "    \n",
    "get_value_of_bills(5, 128)"
   ]
  },
  {
   "cell_type": "markdown",
   "metadata": {},
   "source": [
    "4. 计算钞票数量\n",
    "\n",
    "根据金额和面额创建 get_number_of_bills() 函数。\n",
    "该函数应返回在给定金额内可收到的纸币数量。换句话说 起始金额中包含多少整钞？请记住，您只能收到整钞，而不是零钞，因此请记住相应的除法。实际上，您是在四舍五入到最接近的整钞/面额。\n",
    "```\n",
    ">>> get_number_of_bills(127.5, 5)\n",
    "25\n",
    "```"
   ]
  },
  {
   "cell_type": "code",
   "execution_count": 4,
   "metadata": {},
   "outputs": [
    {
     "data": {
      "text/plain": [
       "25"
      ]
     },
     "execution_count": 4,
     "metadata": {},
     "output_type": "execute_result"
    }
   ],
   "source": [
    "def get_number_of_bills(amount, denomination):\n",
    "    \"\"\"\n",
    "\n",
    "    :param amount: float - the total starting value.\n",
    "    :param denomination: int - the value of a single bill.\n",
    "    :return: int - number of bills that can be obtained from the amount.\n",
    "    \"\"\"\n",
    "\n",
    "    return int(amount / denomination)\n",
    "    \n",
    "get_number_of_bills(127.5, 5)"
   ]
  },
  {
   "cell_type": "markdown",
   "metadata": {},
   "source": [
    "5. 计算兑换成纸币后的剩余金额\n",
    "\n",
    "根据金额和面额创建 get_leftover_of_bills() 函数。\n",
    "根据钞票面额，该函数应返回起始金额无法返回的剩余金额。准确了解摊位能保留多少金额非常重要。\n",
    "```\n",
    ">>> get_leftover_of_bills(127.5, 20)\n",
    "7.5\n",
    "```"
   ]
  },
  {
   "cell_type": "code",
   "execution_count": 5,
   "metadata": {},
   "outputs": [
    {
     "data": {
      "text/plain": [
       "7.5"
      ]
     },
     "execution_count": 5,
     "metadata": {},
     "output_type": "execute_result"
    }
   ],
   "source": [
    "def get_leftover_of_bills(amount, denomination):\n",
    "    \"\"\"\n",
    "\n",
    "    :param amount: float - the total starting value.\n",
    "    :param denomination: int - the value of a single bill.\n",
    "    :return: float - the amount that is \"leftover\", given the current denomination.\n",
    "    \"\"\"\n",
    "\n",
    "    return amount % denomination\n",
    "    \n",
    "get_leftover_of_bills(127.5, 20)\n"
   ]
  },
  {
   "cell_type": "markdown",
   "metadata": {},
   "source": [
    "6. 计算兑换后的价值\n",
    "\n",
    "创建 exchangeable_value() 函数，输入预算、汇率、点差和面额。\n",
    "参数价差是作为兑换费的百分比，以整数形式写入。需要将其除以 100 转换为十进制。如果 1.00 EUR == 1.20 USD，点差为 10，则实际汇率为 1.00 EUR == 1.32 USD，因为 1.20 的 10%是 0.12，这个额外费用会被加到兑换中。\n",
    "计算汇率和点差后，该函数应返回新货币的最大值。请记住，货币面额是整数，不能再细分。\n",
    "注意：返回值应为 int 类型。\n",
    "```\n",
    ">>> exchangeable_value(127.25, 1.20, 10, 20)\n",
    "80\n",
    ">>> exchangeable_value(127.25, 1.20, 10, 5)\n",
    "95\n",
    "```"
   ]
  },
  {
   "cell_type": "code",
   "execution_count": 13,
   "metadata": {},
   "outputs": [
    {
     "data": {
      "text/plain": [
       "80"
      ]
     },
     "execution_count": 13,
     "metadata": {},
     "output_type": "execute_result"
    }
   ],
   "source": []
  },
  {
   "cell_type": "code",
   "execution_count": 15,
   "metadata": {},
   "outputs": [
    {
     "data": {
      "text/plain": [
       "(80, 95)"
      ]
     },
     "execution_count": 15,
     "metadata": {},
     "output_type": "execute_result"
    }
   ],
   "source": [
    "def exchangeable_value(budget, exchange_rate, spread, denomination):\n",
    "    \"\"\"\n",
    "\n",
    "    :param budget: float - the amount of your money you are planning to exchange.\n",
    "    :param exchange_rate: float - the unit value of the foreign currency.\n",
    "    :param spread: int - percentage that is taken as an exchange fee.\n",
    "    :param denomination: int - the value of a single bill.\n",
    "    :return: int - maximum value you can get.\n",
    "    \"\"\"\n",
    "    # int( 127.25 / (1.20 + (1.20 * (10 / 100))) // 20 * 20)\n",
    "    return int(budget / (exchange_rate + (exchange_rate * (spread / 100))) // denomination * denomination)\n",
    "exchangeable_value(127.25, 1.20, 10, 20) , exchangeable_value(127.25, 1.20, 10, 5)\n"
   ]
  },
  {
   "cell_type": "markdown",
   "metadata": {},
   "source": []
  }
 ],
 "metadata": {
  "kernelspec": {
   "display_name": ".venv",
   "language": "python",
   "name": "python3"
  },
  "language_info": {
   "codemirror_mode": {
    "name": "ipython",
    "version": 3
   },
   "file_extension": ".py",
   "mimetype": "text/x-python",
   "name": "python",
   "nbconvert_exporter": "python",
   "pygments_lexer": "ipython3",
   "version": "3.10.11"
  }
 },
 "nbformat": 4,
 "nbformat_minor": 2
}
